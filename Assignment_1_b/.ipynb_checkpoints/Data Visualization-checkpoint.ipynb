{
 "cells": [
  {
   "cell_type": "markdown",
   "metadata": {},
   "source": []
  },
  {
   "cell_type": "markdown",
   "metadata": {},
   "source": [
    "# Data Visualization\n",
    "    df.isna().sum()\n",
    "    corr_matrix = df.corr()\n",
    "    corr_matrix.style.background_gradient(cmap='coolwarm')\n",
    "\n",
    "\n",
    "## Create correlation matrix\n",
    "    #Using the correlation scores make a list of columns to drop and drop the columns.\n",
    "    import numpy as np\n",
    "    corr_matrix = df.corr().abs()\n",
    "    #Begin the code\n",
    "    upper = corr_matrix.where(np.triu(np.ones(corr_matrix.shape), k=1).astype(np.bool))\n",
    "    to_drop = [column for column in upper.columns if any(upper[column] > 0.95)] \n",
    "    df.drop(df[to_drop], axis=1,inplace=True)\n",
    "    #End the code\n",
    "## scatterPlot\n",
    "    def scatter_plot(x_data, y_data, x_label, y_label, title):\n",
    "    \n",
    "    plt.scatter(x_data, y_data, s = 15, color = '#539caf', alpha = 0.75)\n",
    "    plt.title(title)\n",
    "    plt.xlabel(x_label)\n",
    "    plt.ylabel(y_label)\n",
    "## Histogram\n",
    "    def histogram(data, x_label, y_label, title):\n",
    "    #Begin the code\n",
    "    plt.hist(data)\n",
    "    plt.xlabel(x_label)\n",
    "    plt.ylabel(y_label)\n",
    "    plt.title(title)"
   ]
  }
 ],
 "metadata": {
  "kernelspec": {
   "display_name": "Python 3",
   "language": "python",
   "name": "python3"
  },
  "language_info": {
   "codemirror_mode": {
    "name": "ipython",
    "version": 3
   },
   "file_extension": ".py",
   "mimetype": "text/x-python",
   "name": "python",
   "nbconvert_exporter": "python",
   "pygments_lexer": "ipython3",
   "version": "3.7.3"
  }
 },
 "nbformat": 4,
 "nbformat_minor": 2
}
